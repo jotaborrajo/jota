{
  "nbformat": 4,
  "nbformat_minor": 0,
  "metadata": {
    "colab": {
      "name": "bokeh-tutorial.ipynb",
      "version": "0.3.2",
      "provenance": [],
      "private_outputs": true,
      "collapsed_sections": [],
      "include_colab_link": true
    },
    "kernelspec": {
      "name": "python3",
      "display_name": "Python 3"
    }
  },
  "cells": [
    {
      "cell_type": "markdown",
      "metadata": {
        "id": "view-in-github",
        "colab_type": "text"
      },
      "source": [
        "<a href=\"https://colab.research.google.com/github/jotaborrajo/jota/blob/master/bokeh_tutorial.ipynb\" target=\"_parent\"><img src=\"https://colab.research.google.com/assets/colab-badge.svg\" alt=\"Open In Colab\"/></a>"
      ]
    },
    {
      "cell_type": "markdown",
      "metadata": {
        "id": "0Dst-RQ89kRC",
        "colab_type": "text"
      },
      "source": [
        "# Hands-on exercise interactive data visualization\n",
        "\n",
        "By Jan Aerts, Visual Data Analysis Lab, Data Science Institute, UHasselt, http://vda-lab.be"
      ]
    },
    {
      "cell_type": "markdown",
      "metadata": {
        "id": "A4mdS0KgoyEl",
        "colab_type": "text"
      },
      "source": [
        "![alt text](https://drive.google.com/uc?id=1nXc5zgZsQUAZnSNq4dvTp_gF4R0L-2j8)"
      ]
    },
    {
      "cell_type": "markdown",
      "metadata": {
        "id": "4Hb6_xTm9sIV",
        "colab_type": "text"
      },
      "source": [
        "In this tutorial, we will use python Bokeh (http://bokeh.pydata.org) to generate visualizations based on a flights dataset. This tutorial holds numerous code snippets that can by copy/pasted and modified for your own purpose. It is also available as an ipython notebook so you can run it interactively.\n",
        "The contents of this tutorial is available under the **CC-BY license**. The tutorial is written in a very incremental way: we start with something simple, and gradually add little bits and pieces that allow us to make more complex visualizations. So make sure to not skip parts of the tutorial: everything depends on everything that precedes it.\n",
        "\n",
        "As this is an jupyter notebook, you can \"run\" each of the codeblocks using **Shift-Enter**, and you should see the output appear underneath the codeblock. However, we will need to have some things installed (e.g. the bokeh library itself, the dataset, etc). For this we can use the `!command` approach. Don't worry about this too much as that is not the point of this tutorial."
      ]
    },
    {
      "cell_type": "markdown",
      "metadata": {
        "id": "wPU0uXxelgBb",
        "colab_type": "text"
      },
      "source": [
        "## Data visualisation and python\n",
        "Many libraries exist to create data visualisations, in different programming languages. In the data visualisation community, javascript and [D3](http://d3js.org) are the most prominent. As much data analysis is however based on python, we will use a python library here, called [bokeh](http://bokeh.pydata.org)."
      ]
    },
    {
      "cell_type": "markdown",
      "metadata": {
        "id": "corUUrYp9vIh",
        "colab_type": "text"
      },
      "source": [
        "## Plotting vs charting\n",
        "Bokeh provides both a high-level language to create pre-defines charts (scatterplot, barchart, ...) and a low-level API which gives you more flexibility (lines, points, areas). In this tutorial, we will jump into the lower-level API so that you'd be able to implement custom visuals as well. Moreover, the charts library has been deprecated and many simpler charts are now possible through the `bokeh.plotting` library."
      ]
    },
    {
      "cell_type": "markdown",
      "metadata": {
        "id": "eyMyOE5W9yos",
        "colab_type": "text"
      },
      "source": [
        "## Installation of Bokeh\n",
        "\n",
        "See http://bokeh.pydata.org/en/latest/docs/installation.html for dependencies and installation instructions.\n",
        "\n",
        "To use bokeh, add `import bokeh` at the top of your script. Add `output_notebook()` if you want to see your plots inline with the rest of your notebook.\n",
        " \n",
        "But first, we'll need to the library on your system. You only have to do this once:"
      ]
    },
    {
      "cell_type": "code",
      "metadata": {
        "id": "95eUJKgsUeyJ",
        "colab_type": "code",
        "colab": {}
      },
      "source": [
        "!pip install bokeh"
      ],
      "execution_count": 0,
      "outputs": []
    },
    {
      "cell_type": "markdown",
      "metadata": {
        "id": "r7qAucbzsPXj",
        "colab_type": "text"
      },
      "source": [
        "## IMPORTANT - Bokeh API documentation\n",
        "For documentation on arguments to use in any of the coding examples below, check the bokeh API:\n",
        "* for `figure`: [https://bokeh.pydata.org/en/latest/docs/reference/plotting.html](https://bokeh.pydata.org/en/latest/docs/reference/plotting.html)\n",
        "* for `plot`: [https://bokeh.pydata.org/en/latest/docs/reference/models/plots.html#bokeh.models.plots.Plot](https://bokeh.pydata.org/en/latest/docs/reference/models/plots.html#bokeh.models.plots.Plot)\n",
        "* for `grid`: [https://bokeh.pydata.org/en/latest/docs/reference/models/grids.html](https://bokeh.pydata.org/en/latest/docs/reference/models/grids.html)\n",
        "* for `circle` and other marks: [https://bokeh.pydata.org/en/latest/docs/reference/models/markers.html](https://bokeh.pydata.org/en/latest/docs/reference/models/markers.html) and [https://bokeh.pydata.org/en/latest/docs/reference/models/glyphs.html](https://bokeh.pydata.org/en/latest/docs/reference/models/glyphs.html)\n",
        "\n",
        "**Make sure to have these pages open while you're learning bokeh**"
      ]
    },
    {
      "cell_type": "markdown",
      "metadata": {
        "id": "vI0lwVRZ93Tr",
        "colab_type": "text"
      },
      "source": [
        "## A minimal script\n",
        "\n",
        "A minimal script is provided below. *In all scripts, the line numbering includes the first line with the comment, as well as any empty lines*"
      ]
    },
    {
      "cell_type": "code",
      "metadata": {
        "id": "saiddUeb9soA",
        "colab_type": "code",
        "colab": {}
      },
      "source": [
        "# script 1\n",
        "from bokeh.plotting import *\n",
        "output_notebook()\n",
        "\n",
        "p = figure(plot_width=500, plot_height=500)\n",
        "p.grid.grid_line_color=None\n",
        "p.circle(x=100,y=150,size=20,fill_color=\"red\")\n",
        "p.rect(x=200,y=200,width=50,height=60,fill_color=\"green\", line_color=\"red\")\n",
        "p.line(x=[10,280],y=[5,250],line_color=\"blue\")\n",
        "show(p)"
      ],
      "execution_count": 0,
      "outputs": []
    },
    {
      "cell_type": "markdown",
      "metadata": {
        "id": "uQUUloK9-AVM",
        "colab_type": "text"
      },
      "source": [
        "Let’s walk through each line. The script is made up of a list of statements. The first line in the script is a comment: anything after a `#` will not be read and interpreted. Line 2 loads the bokeh library. The third line makes sure that we will see the actual plots inline in our ipython notebook. The magic starts to happen at line 5, where we **create a new empty figure** and set its dimensions. In this case, we'll generate a picture of 500x500 pixels (see [here](https://bokeh.pydata.org/en/latest/docs/reference/models/plots.html#bokeh.models.plots.Plot) for information on arguments used). On line 6, we remove the gridlines that are are shown by default (see [here](https://bokeh.pydata.org/en/latest/docs/user_guide/styling.html#grids) for info on grids). See what happens if your removed this line... Next, we add a **circle** to the picture with the (horizontal) x-position set to 100 and the (vertical) y-position set to 150. The radius is defined as 20 pixels, and we colour it red. There are 2 types of colour commands: **`fill_color`** defines the colour of the mass of a marker, whereas **`line_color`** refers to the colour of the line around the object. For a circle, therefore, the `fill_color` sets the colour of the *disk* whereas `line_color` defines the colour of the circle around the disk.\n",
        "Next, we draw a **rectangle** with its center position set at (200,200), a width of 50 pixels, a height of 60 pixels, and make it green. We also draw a **line** from the point (10,5) to the point (280,250). The first parameter of the `p.line` command should be a list of the x-positions; the second parameter a list of the y-positions. Finally, in line 9, we show the actual picture.\n",
        "\n",
        "A full list of all parameters you can use for each of these marks (circle, rectangle, line, ...) is available at **http://bokeh.pydata.org/en/latest/docs/reference/plotting.html**."
      ]
    },
    {
      "cell_type": "markdown",
      "metadata": {
        "id": "2AoYpH5W-EOd",
        "colab_type": "text"
      },
      "source": [
        "## Variables, loops and conditionals\n",
        "\n",
        "What if we want to do something multiple times? Suppose we want to draw 10 lines underneath each other. We could do that like this:"
      ]
    },
    {
      "cell_type": "code",
      "metadata": {
        "id": "D6toqEw_958h",
        "colab_type": "code",
        "colab": {}
      },
      "source": [
        "# script 2\n",
        "from bokeh.plotting import *\n",
        "output_notebook()\n",
        "\n",
        "p = figure(plot_width=500,plot_height=300,x_range=[0,500],y_range=[0,200])\n",
        "p.grid.grid_line_color=None\n",
        "p.line(x=[100,400],y=[0,0])\n",
        "p.line(x=[100,400],y=[10,10])\n",
        "p.line(x=[100,400],y=[20,20])\n",
        "p.line(x=[100,400],y=[30,30])\n",
        "p.line(x=[100,400],y=[40,40])\n",
        "p.line(x=[100,400],y=[50,50])\n",
        "p.line(x=[100,400],y=[60,60])\n",
        "p.line(x=[100,400],y=[70,70])\n",
        "p.line(x=[100,400],y=[80,80])\n",
        "p.line(x=[100,400],y=[90,90])\n",
        "show(p)"
      ],
      "execution_count": 0,
      "outputs": []
    },
    {
      "cell_type": "markdown",
      "metadata": {
        "id": "hBZfUjOu-JnS",
        "colab_type": "text"
      },
      "source": [
        "In this plot, we added `x_range=[0,500],y_range=[0,200]`. Why is this? If bokeh wants to plot something, it will by default zoom into the glyphs. For this exercise, we however want to see the whole plot: its full width and height.\n",
        "\n",
        "Of course this code is not optimal: what if we have 5,000 datapoints to plot? To handle real data, we will need variables, loops, and conditionals.\n",
        "In the code block above, we can replace the hard-coded numbers with variables. These can be integers, floats, strings, arrays, etc. The statement `start_x = 100` below means “create a variable called `start_x`, and give it the value of 100”."
      ]
    },
    {
      "cell_type": "code",
      "metadata": {
        "id": "tds-R_IU-GkZ",
        "colab_type": "code",
        "colab": {}
      },
      "source": [
        "# script 3\n",
        "from bokeh.plotting import *\n",
        "output_notebook()\n",
        "\n",
        "start_x = 100\n",
        "stop_x = 400\n",
        "\n",
        "p = figure(plot_width=500,plot_height=300,x_range=[0,500],y_range=[0,300])\n",
        "p.grid.grid_line_color=None\n",
        "for i in range(0,9):\n",
        "    p.line(x=[start_x,stop_x],y=[i*10,i*10])\n",
        "show(p)"
      ],
      "execution_count": 0,
      "outputs": []
    },
    {
      "cell_type": "markdown",
      "metadata": {
        "id": "br7yQP9b-PPK",
        "colab_type": "text"
      },
      "source": [
        "In script 3, we added 2 new variables (called `start_x` and `stop_x`) to illustrate the use of variables. Also, we replaced all the lines from script 2 that look the same with a single `for`-loop (lines 10 and 11). In this loop, we go through the numbers 0 to 9, put these in a variable called `i`, and use that variable in line 11. The first time the loop is run, `i` will be 0, so that line will effectively be `p.line([start_x,stop_x,[0,0])`; in the second loop, `i` will be 1, so line 11 will become `p.line([start_x,stop_x],[10,10])`.\n",
        "**Whitespace** is very important in python: it defines code blocks. In the `for`-loop above, line 11 is indented relative to line 10. This means that line 11 is *part of* the block started at line 10. In other languages (java, C, perl, ruby, ...), you will for example see curly brackets (`{}`) used instead of whitespace to define blocks. A `for`-loop in java for example can look like this:\n",
        "``` {.java}\n",
        "for ( int i = 0; i < 10; i++ ) { println \"Variable i is not \" + i };\n",
        "```\n",
        "As you can see, in java curly brackets have the same role as whitespace in python. This also means that the following code would not work, and will give an `IndentationError`:\n",
        "``` {.python}\n",
        "for i in range(0,9):\n",
        "print i\n",
        "```\n",
        "\n",
        "We can use **conditionals** to for example distinguish odd or even lines by colour."
      ]
    },
    {
      "cell_type": "code",
      "metadata": {
        "id": "rPUlltCH-MTP",
        "colab_type": "code",
        "colab": {}
      },
      "source": [
        "# script 4\n",
        "from bokeh.plotting import *\n",
        "output_notebook()\n",
        "\n",
        "start_x = 100\n",
        "stop_x = 400\n",
        "\n",
        "p = figure(plot_width=500,plot_height=300,x_range=[0,500],y_range=[0,300])\n",
        "p.grid.grid_line_color=None\n",
        "for i in range(0,9):\n",
        "    if i%2 == 0:\n",
        "        p.line(x=[start_x,stop_x],y=[i*10,i*10],line_color=\"red\")\n",
        "    else:\n",
        "        p.line(x=[start_x,stop_x],y=[i*10,i*10],line_color=\"blue\")\n",
        "show(p)"
      ],
      "execution_count": 0,
      "outputs": []
    },
    {
      "cell_type": "markdown",
      "metadata": {
        "id": "kqxzPxUa-UHn",
        "colab_type": "text"
      },
      "source": [
        "In this code snippet, we check in each loop if `i` is even or odd, and let the line colour depend on that result. An if-clause has the following form:\n",
        "``` {.python}\n",
        "if *condition*:\n",
        "    # do something\n",
        "else:\n",
        "    # do something else\n",
        "```\n",
        "\n",
        "The condition `i%2 == 0` means: does dividing the number `i` with 2 result in a remainder of zero? Note that we have to use 2 equal-signs here (`==`) instead of just one (`=`). This is so to distinguish between a **test for equality**, and an **assignment**. Don’t make errors against this..."
      ]
    },
    {
      "cell_type": "markdown",
      "metadata": {
        "id": "WxOsDw4R-YlT",
        "colab_type": "text"
      },
      "source": [
        "## Exercise data\n",
        "\n",
        "The data for this exercise concerns flight information between different cities. Each entry in the dataset contains the following fields:\n",
        "￼\n",
        "* from_airport\n",
        "* from_city\n",
        "* from_country\n",
        "* from_long\n",
        "* from_lat\n",
        "* to_airport\n",
        "* to_city\n",
        "* to_country\n",
        "* to_long\n",
        "* to_lat\n",
        "* airline\n",
        "* airline_country\n",
        "* distance"
      ]
    },
    {
      "cell_type": "markdown",
      "metadata": {
        "id": "iJ2GCA-i-bks",
        "colab_type": "text"
      },
      "source": [
        "### Getting the data\n",
        "\n",
        "You can download the data from `http://vda-lab.github.io/assets/flights.csv`. As this is a comma-separated file, we will import the `csv` library. Now how do we go through such a file? Here's a typical code snippet:\n",
        "``` {.python}\n",
        "import csv\n",
        "f = open('flights.csv')\n",
        "reader = csv.reader(f)\n",
        "for line in reader:\n",
        "    # do something with the line\n",
        "```"
      ]
    },
    {
      "cell_type": "markdown",
      "metadata": {
        "id": "sS9ATBLowRUG",
        "colab_type": "text"
      },
      "source": [
        "But first let's download the data locally."
      ]
    },
    {
      "cell_type": "code",
      "metadata": {
        "id": "fwn5ibEy-wJZ",
        "colab_type": "code",
        "colab": {}
      },
      "source": [
        "!wget http://vda-lab.github.io/assets/flights.csv\n",
        "!head flights.csv\n",
        "!tail flights.csv"
      ],
      "execution_count": 0,
      "outputs": []
    },
    {
      "cell_type": "markdown",
      "metadata": {
        "id": "xdtKQLpW-izn",
        "colab_type": "text"
      },
      "source": [
        "### Accessing the data from Python\n",
        "\n",
        "Let’s write a small script to visualize this data. The visual encoding that we’ll use for each flight will be the following:\n",
        "\n",
        "* x position is defined by longitude of departure airport\n",
        "* y position is defined by latitude of departure airport"
      ]
    },
    {
      "cell_type": "code",
      "metadata": {
        "id": "DbSSFYBl-Rx4",
        "colab_type": "code",
        "colab": {}
      },
      "source": [
        "# script 5\n",
        "import csv\n",
        "from bokeh.plotting import *\n",
        "output_notebook()\n",
        "\n",
        "def normalize(input, domain_start, domain_stop, range_start, range_stop):\n",
        "    return (range_stop - range_start)*((input-domain_start)/(domain_stop-domain_start))+range_start\n",
        "\n",
        "f = open('flights.csv')\n",
        "reader = csv.reader(f)\n",
        "next(reader)\n",
        "\n",
        "xs = []\n",
        "ys = []\n",
        "\n",
        "for line in reader:\n",
        "    [from_airport, from_city, from_country, from_long, from_lat,\n",
        "     to_airport, to_city, to_country, to_long, to_lat,\n",
        "     airline, airline_country, distance] = line\n",
        "    xs.append(normalize(float(from_long),-180,180,0,800))\n",
        "    ys.append(normalize(float(from_lat),-180,180,0,400))\n",
        "p = figure(plot_width=800,plot_height=400,title=\"Departure airports\")\n",
        "p.grid.grid_line_color=None\n",
        "p.circle(x=xs,y=ys,line_color=None,fill_color=\"blue\",fill_alpha=0.1)\n",
        "show(p)"
      ],
      "execution_count": 0,
      "outputs": []
    },
    {
      "cell_type": "markdown",
      "metadata": {
        "id": "ChEf75PZ_M6h",
        "colab_type": "text"
      },
      "source": [
        "You can see that the resulting image shows a map of the world, with areas with high airport density clearly visible. Notice that the data itself does not contain any information where the continents, oceans and coasts are; still, these are clearly visible in the image.\n",
        "\n",
        "Let's go through the code:\n",
        "\n",
        "* Line 2: we load the `csv` module.\n",
        "* Lines 6-7: we define a `normalize` method. More about that a bit later, when we discuss lines 20 and 21.\n",
        "* Lines 9-11: we prepare the data from the file to be read\n",
        "* Lines 13-14: As mentioned for script 1, the first two parameters of the `circle` command are arrays of x- and y-positions. Here, we define these 2 arrays.\n",
        "* Line 16: Here's where we start looping over the lines in the file. For each line, the code block from line 17 to line 21 will be executed.\n",
        "* Lines 17-19: We put the value of each column for that particular row in a separate variable.\n",
        "* Lines 20-21: We append the value from `from_long` to the list of xs, and the value of `from_lat` to the list of ys. However, we need to normalize these: the actual values range from -180 to 180, but we need pixel positions between 0 and 800. That's where the `normalize` function comes in. The values -180 and 180 define the *domain* of the data, whereas 0 and 800 define the *range*. Other plotting libraries (e.g. processing.org (java) or p5js.org (javascript)) provide a function (called `map`) that does this as well. See the figure below.\n",
        "* Line 24: For `p.circle`, we provide several arguments. The first two should each be an array which list the x and y coordinates respectively. This is a similar behaviour to R, where these list are basically independent.\n",
        "\n",
        "![alt text](https://drive.google.com/uc?id=1ohfelY9Fh2p3jamNmQe-oDPUCSujQ-9R)"
      ]
    },
    {
      "cell_type": "markdown",
      "metadata": {
        "id": "U0aL7woX_ZUh",
        "colab_type": "text"
      },
      "source": [
        "In the plot above, we get a lot of overplotting: there are often many flights leaving from the same `from_airport`, and we draw those for each. We should better keep track of those airports that we already drew."
      ]
    },
    {
      "cell_type": "code",
      "metadata": {
        "id": "KWIUKvUz_ZDD",
        "colab_type": "code",
        "colab": {}
      },
      "source": [
        "from bokeh.plotting import *\n",
        "output_notebook()\n",
        "import csv\n",
        "\n",
        "xs = []\n",
        "ys = []\n",
        "from_airports = []\n",
        "\n",
        "f = open('flights.csv')\n",
        "reader = csv.reader(f)\n",
        "next(reader)\n",
        "\n",
        "for line in reader:\n",
        "    [from_airport, from_city, from_country, from_long, from_lat,\n",
        "     to_airport, to_city, to_country, to_long, to_lat,\n",
        "     airline, airline_country, distance] = line\n",
        "    if from_airport not in from_airports:\n",
        "        from_airports.append(from_airport)\n",
        "        xs.append(normalize(float(from_long),-180,180,0,800))\n",
        "        ys.append(normalize(float(from_lat),-180,180,0,400))\n",
        "script5b_plot = figure(plot_width=800,plot_height=400,title=\"Departure airports\")\n",
        "script5b_plot.grid.grid_line_color=None\n",
        "script5b_plot.scatter(xs,ys,line_color=None,fill_color=\"blue\",fill_alpha=0.3)\n",
        "show(script5b_plot)"
      ],
      "execution_count": 0,
      "outputs": []
    },
    {
      "cell_type": "markdown",
      "metadata": {
        "id": "Iu0YKIuH_e2w",
        "colab_type": "text"
      },
      "source": [
        "The relevant lines here are line 7 (`from_airports = []`) and lines 19 and 20, where we only add a value to the xs and ys if that airport has not been seen yet."
      ]
    },
    {
      "cell_type": "markdown",
      "metadata": {
        "id": "I5rQz3K4_iA5",
        "colab_type": "text"
      },
      "source": [
        "Let's do something more advanced now. In the next plot, we want to:\n",
        "1. have a **different colour for domestic and international flights**\n",
        "1. have the **size of the circle depend on the distance of the flight**: the longer the distance, the larger the radius"
      ]
    },
    {
      "cell_type": "code",
      "metadata": {
        "id": "95O4AmN--l3B",
        "colab_type": "code",
        "colab": {}
      },
      "source": [
        "from bokeh.plotting import *\n",
        "output_notebook()\n",
        "import csv\n",
        "\n",
        "f = open('flights.csv')\n",
        "reader = csv.reader(f)\n",
        "next(reader)\n",
        "\n",
        "xs_dom = []\n",
        "ys_dom = []\n",
        "xs_int = []\n",
        "ys_int = []\n",
        "rs_dom = []\n",
        "rs_int = []\n",
        "\n",
        "for line in reader:\n",
        "    [from_airport, from_city, from_country, from_long, from_lat,\n",
        "     to_airport, to_city, to_country, to_long, to_lat,\n",
        "     airline, airline_country, distance] = line\n",
        "    if from_country == to_country:\n",
        "        xs_dom.append(normalize(float(from_long),-180,180,0,800))\n",
        "        ys_dom.append(normalize(float(from_lat),-180,180,0,400))\n",
        "        rs_dom.append(normalize(float(distance),1,15406,3,15))\n",
        "    else:\n",
        "        xs_int.append(normalize(float(from_long),-180,180,0,800))\n",
        "        ys_int.append(normalize(float(from_lat),-180,180,0,400))\n",
        "        rs_int.append(normalize(float(distance),1,15406,3,15))\n",
        "script6_plot = figure(plot_width=800,plot_height=400)\n",
        "script6_plot.grid.grid_line_color=None\n",
        "script6_plot.circle(xs_dom,ys_dom,size=rs_dom,line_color=None,fill_color=\"red\",fill_alpha=0.1)\n",
        "script6_plot.circle(xs_int,ys_int,size=rs_int,line_color=None,fill_color=\"blue\",fill_alpha=0.1)\n",
        "show(script6_plot)"
      ],
      "execution_count": 0,
      "outputs": []
    },
    {
      "cell_type": "markdown",
      "metadata": {
        "id": "zRki2I4Oy4Gq",
        "colab_type": "text"
      },
      "source": [
        "We basically create separate lists of `x` and `y`: one for domestic (`x_dom` and `y_dom`) and one for international. The same goes for the new arrays `r_dom` and `r_int` which contain the radius of all the points. Eventually, we just plot 2 sets of circles:\n",
        "```\n",
        "script6_plot.circle(xs_dom,ys_dom,size=rs_dom,...)\n",
        "script6_plot.circle(xs_int,ys_int,size=rs_int,...)\n",
        "```\n"
      ]
    },
    {
      "cell_type": "markdown",
      "metadata": {
        "id": "DJdr04K2_mXT",
        "colab_type": "text"
      },
      "source": [
        "Let's add some **hovering**...\n",
        "\n",
        "To use hovering, we need to look into a different way of storing our data internally: the **ColumnDataSource**. Here's a proof-of-concept. When you hover over a datapoint, you should get a tooltip with additional information. Later, we'll put something useful in there."
      ]
    },
    {
      "cell_type": "code",
      "metadata": {
        "id": "fym3t3SP_kIb",
        "colab_type": "code",
        "colab": {}
      },
      "source": [
        "from bokeh.plotting import *\n",
        "output_notebook()\n",
        "\n",
        "from bokeh.models import HoverTool\n",
        "TOOLS = [HoverTool()]\n",
        "\n",
        "p = figure(plot_width=400, plot_height=400, title=None, tools=TOOLS)\n",
        "\n",
        "p.circle([1, 2, 3, 4, 5], [2, 5, 8, 2, 7], size=10)\n",
        "\n",
        "show(p)"
      ],
      "execution_count": 0,
      "outputs": []
    },
    {
      "cell_type": "markdown",
      "metadata": {
        "id": "LGzcrgKmzoLu",
        "colab_type": "text"
      },
      "source": [
        "In lines 4 and 5, we define the `TOOLS` variable, which contains a list of tools (in this case only for hovering). We then have to add `tools=TOOLS` to the definition of the figure in line 7. The result is the small glyph you see on the right of the image."
      ]
    },
    {
      "cell_type": "markdown",
      "metadata": {
        "id": "9I3JMiWdkHzr",
        "colab_type": "text"
      },
      "source": [
        "Now merge this with the airports script:"
      ]
    },
    {
      "cell_type": "code",
      "metadata": {
        "id": "TWR8V60x_oL7",
        "colab_type": "code",
        "colab": {}
      },
      "source": [
        "from bokeh.plotting import *\n",
        "output_notebook()\n",
        "import csv\n",
        "from bokeh.models import HoverTool\n",
        "\n",
        "f = open('flights.csv')\n",
        "reader = csv.reader(f)\n",
        "next(reader)\n",
        "\n",
        "xs_dom = []\n",
        "ys_dom = []\n",
        "xs_int = []\n",
        "ys_int = []\n",
        "rs_dom = []\n",
        "rs_int = []\n",
        "from_airports_dom = []\n",
        "from_airports_int = []\n",
        "distances_dom = []\n",
        "distances_int = []\n",
        "\n",
        "for line in reader:\n",
        "    [from_airport, from_city, from_country, from_long, from_lat,\n",
        "     to_airport, to_city, to_country, to_long, to_lat,\n",
        "     airline, airline_country, distance] = line\n",
        "    if from_country == to_country:\n",
        "        if from_airport not in from_airports_dom:\n",
        "            xs_dom.append(normalize(float(from_long),-180,180,0,800))\n",
        "            ys_dom.append(normalize(float(from_lat),-180,180,0,400))\n",
        "            rs_dom.append(normalize(float(distance),1,15406,3,15))\n",
        "            from_airports_dom.append(from_airport)\n",
        "            distances_dom.append(distance)\n",
        "    else:\n",
        "        if from_airport not in from_airports_int:\n",
        "            xs_int.append(normalize(float(from_long),-180,180,0,800))\n",
        "            ys_int.append(normalize(float(from_lat),-180,180,0,400))\n",
        "            rs_int.append(normalize(float(distance),1,15406,3,15))\n",
        "            from_airports_int.append(from_airport)\n",
        "            distances_int.append(distance)\n",
        "\n",
        "TOOLS=\"pan,box_zoom,lasso_select,reset,hover\"\n",
        "\n",
        "source_dom = ColumnDataSource(             # <=====\n",
        "    data = dict(                           # <=====\n",
        "        x = xs_dom,                        # <=====\n",
        "        y = ys_dom,                        # <=====\n",
        "        radius = rs_dom,                   # <=====\n",
        "        from_airport = from_airports_dom,  # <=====\n",
        "        distance = distances_dom           # <=====\n",
        "    )\n",
        ")\n",
        "source_int = ColumnDataSource(             # <=====\n",
        "    data = dict(                           # <=====\n",
        "        x = xs_int,                        # <=====\n",
        "        y = ys_int,                        # <=====\n",
        "        radius = rs_int,                   # <=====\n",
        "        from_airport = from_airports_int,  # <=====\n",
        "        distance = distances_int           # <=====\n",
        "    )\n",
        ")\n",
        "\n",
        "script7_plot = figure(plot_width=800,plot_height=400,tools=TOOLS)\n",
        "script7_plot.grid.grid_line_color=None\n",
        "# was: script6_plot.circle(xs_dom,ys_dom,size=rs_dom,line_color=None,fill_color=\"red\",fill_alpha=0.1)\n",
        "script7_plot.circle(source=source_dom, x=\"x\", y=\"y\",size=\"radius\",line_color=None,fill_color=\"red\",fill_alpha=0.3)  # <=====\n",
        "script7_plot.circle(source=source_int, x=\"x\",y=\"y\", size=\"radius\",line_color=None,fill_color=\"blue\",fill_alpha=0.3)  # <=====\n",
        "\n",
        "hover = script7_plot.select(dict(type=HoverTool))                            # <=====\n",
        "hover.tooltips = [                                                           # <=====\n",
        "    (\"index, from_airport, distance\", \"$index, @from_airport, @distance\"),   # <=====\n",
        "]\n",
        "\n",
        "show(script7_plot)"
      ],
      "execution_count": 0,
      "outputs": []
    },
    {
      "cell_type": "markdown",
      "metadata": {
        "id": "F69mzzOw_saQ",
        "colab_type": "text"
      },
      "source": [
        "Now you can:\n",
        "* get more information by hovering over an airport\n",
        "* lasso-select a region with airports\n",
        "* zoom by drawing a box\n",
        "* reset back to the original state\n",
        "\n",
        "Bokeh automatically draws non-selected datapoints as light-blue/greyish circles. Now also try selecting a group of red airports in Alaska without including a blue one. We see that only the red non-selected airports are marked as \"not selected\". Nothing happens to the blue airports. This is because we actually draw 2 plots on top of each other (i.e. you see a `script7_plot.circle` twice). So let's try and do the same thing again, but now only drawing a single plot. The reason we drew 2 plots before is because we wanted to have 2 colours. Another way of doing this, is to give the `fill_color` parameter an *array* as its value instead of a single value."
      ]
    },
    {
      "cell_type": "code",
      "metadata": {
        "id": "lRweNZCk_qF7",
        "colab_type": "code",
        "colab": {}
      },
      "source": [
        "from bokeh.plotting import *\n",
        "output_notebook()\n",
        "import csv\n",
        "from bokeh.models import HoverTool\n",
        "\n",
        "f = open('flights.csv')\n",
        "reader = csv.reader(f)\n",
        "next(reader)\n",
        "\n",
        "xs = []\n",
        "ys = []\n",
        "rs = []\n",
        "from_airports = []\n",
        "distances = []\n",
        "colours = []   # <=======\n",
        "\n",
        "for line in reader:\n",
        "    [from_airport, from_city, from_country, from_long, from_lat,\n",
        "     to_airport, to_city, to_country, to_long, to_lat,\n",
        "     airline, airline_country, distance] = line\n",
        "    if from_airport not in from_airports:\n",
        "        xs.append(normalize(float(from_long),-180,180,0,800))\n",
        "        ys.append(normalize(float(from_lat),-180,180,0,400))\n",
        "        rs.append(normalize(float(distance),1,15406,3,15))\n",
        "        from_airports.append(from_airport)\n",
        "        distances.append(distance)\n",
        "        if from_country == to_country:   # <=======\n",
        "            colours.append(\"red\")        # <=======\n",
        "        else:                            # <=======\n",
        "            colours.append(\"blue\")       # <=======\n",
        "\n",
        "TOOLS=\"pan,box_zoom,lasso_select,reset,hover\"\n",
        "\n",
        "source = ColumnDataSource(\n",
        "    data = dict(\n",
        "        x = xs,\n",
        "        y = ys,\n",
        "        radius = rs,\n",
        "        from_airport = from_airports,\n",
        "        distance = distances,\n",
        "        colour = colours            # <=======\n",
        "    )\n",
        ")\n",
        "\n",
        "script7_plot = figure(plot_width=800,plot_height=400,tools=TOOLS)\n",
        "script7_plot.grid.grid_line_color=None\n",
        "script7_plot.circle(source=source,x=\"x\",y=\"y\",size=\"radius\",line_color=None,fill_color=\"colour\",fill_alpha=0.3)\n",
        "\n",
        "hover = script7_plot.select(dict(type=HoverTool))\n",
        "hover.tooltips = [\n",
        "    (\"index, from_airport, distance\", \"$index, @from_airport, @distance\"),\n",
        "]\n",
        "\n",
        "show(script7_plot)"
      ],
      "execution_count": 0,
      "outputs": []
    },
    {
      "cell_type": "markdown",
      "metadata": {
        "id": "t-R1kM4x_wvL",
        "colab_type": "text"
      },
      "source": [
        "Instead of making two `ColumnDataSources` as before (one for domestic flights, and one for international flights), we now just add an additional key which holds the colour for that particular flight."
      ]
    },
    {
      "cell_type": "markdown",
      "metadata": {
        "id": "dTusBiwQ_y6B",
        "colab_type": "text"
      },
      "source": [
        "## Interactivity"
      ]
    },
    {
      "cell_type": "markdown",
      "metadata": {
        "id": "fvBnejIo_1fs",
        "colab_type": "text"
      },
      "source": [
        "Now let's add some **interactivity**: we'll add a slider that sets the size of the circles."
      ]
    },
    {
      "cell_type": "code",
      "metadata": {
        "id": "Ml5ZkydM_uVm",
        "colab_type": "code",
        "colab": {}
      },
      "source": [
        "from bokeh.plotting import *\n",
        "output_notebook()\n",
        "import csv\n",
        "from bokeh.models import HoverTool, CustomJS, Slider\n",
        "from bokeh.layouts import row, widgetbox\n",
        "\n",
        "f = open('flights.csv')\n",
        "reader = csv.reader(f)\n",
        "next(reader)\n",
        "\n",
        "xs = []\n",
        "ys = []\n",
        "rs = []\n",
        "from_airports = []\n",
        "distances = []\n",
        "colours = []\n",
        "\n",
        "for line in reader:\n",
        "    [from_airport, from_city, from_country, from_long, from_lat,\n",
        "     to_airport, to_city, to_country, to_long, to_lat,\n",
        "     airline, airline_country, distance] = line\n",
        "    if from_airport not in from_airports:\n",
        "        xs.append(normalize(float(from_long),-180,180,0,600))\n",
        "        ys.append(normalize(float(from_lat),-180,180,0,300))\n",
        "        rs.append(normalize(float(distance),1,15406,3,15))\n",
        "        from_airports.append(from_airport)\n",
        "        distances.append(distance)\n",
        "        if from_country == to_country:\n",
        "            colours.append(\"red\")\n",
        "        else:\n",
        "            colours.append(\"blue\")\n",
        "\n",
        "TOOLS=\"pan,box_zoom,lasso_select,reset,hover\"\n",
        "\n",
        "source = ColumnDataSource(\n",
        "    data = dict(\n",
        "        x = xs,\n",
        "        y = ys,\n",
        "        radius = rs,\n",
        "        adjustedRadius = rs,\n",
        "        from_airport = from_airports,\n",
        "        distance = distances,\n",
        "        colour = colours\n",
        "    )\n",
        ")\n",
        "\n",
        "script8_plot = figure(plot_width=600,plot_height=300,tools=TOOLS)\n",
        "script8_plot.grid.grid_line_color=None\n",
        "script8_plot.circle(\"x\",\"y\",source=source,size=\"adjustedRadius\",line_color=None,fill_color=\"colour\",fill_alpha=0.3)\n",
        "\n",
        "hover = script8_plot.select(dict(type=HoverTool))\n",
        "hover.tooltips = [\n",
        "    (\"index, from, distance\", \"$index, @from_airport, @distance\"),\n",
        "]\n",
        "\n",
        "# >>>>>>>>\n",
        "# Code that has to do with the slider\n",
        "callbackFunction = CustomJS(args=dict(source=source), code=\"\"\"\n",
        "    var data = source.data;\n",
        "    var z = zoom.value;\n",
        "    radius = data['radius'];\n",
        "    adjustedRadius = data['adjustedRadius']\n",
        "    for ( i = 0; i < radius.length; i++ ) {\n",
        "        adjustedRadius[i] = radius[i]*z;\n",
        "    }\n",
        "    source.change.emit();\n",
        "\"\"\")\n",
        "\n",
        "zoom_slider = Slider(start=0.1, end=10, value=1, step=.1,\n",
        "                    title=\"zoom\", callback=callbackFunction)\n",
        "callbackFunction.args[\"zoom\"] = zoom_slider\n",
        "\n",
        "layout = row(\n",
        "    script8_plot,\n",
        "    widgetbox(zoom_slider),\n",
        ")\n",
        "# <<<<<<<<<<<\n",
        "\n",
        "show(layout)"
      ],
      "execution_count": 0,
      "outputs": []
    },
    {
      "cell_type": "markdown",
      "metadata": {
        "id": "tcz3Ri6K_51_",
        "colab_type": "text"
      },
      "source": [
        "This is getting more tricky. For more information on using something like a Slider (i.e. a widget), see http://bokeh.pydata.org/en/latest/docs/user_guide/interaction/widgets.html.\n",
        "To get this working, we need several things:\n",
        "* import the relevant libraries: `from bokeh.models import HoverTool, CustomJS, Slider` and `from bokeh.layouts import row, widgetbox`\n",
        "* a `Slider` object (here called `zoom_slider`), which also specifies which callback to run. This means that every time the value of that slider is changed, that particular function is called.\n",
        "* We need to add this `Slider` object as an argument to that callback function\n",
        "* the `callback` function itself: this is a javascript function that gets called everytime the value of the slider changes. In essence, the `adjustedRadius` in the ColumnDataSource is adjusted by multiplying it with the zooming factor. On line 49, the `adjustedRadius` was used to set the size of the dots."
      ]
    },
    {
      "cell_type": "markdown",
      "metadata": {
        "id": "_NzwhjI7_8B6",
        "colab_type": "text"
      },
      "source": [
        "A more useful interaction would be to use this slider for **filtering flights**. Let's draw a plot with all the airports drawn, but the ones that have flights with a certain distance are drawn bigger. When the slider is on the left, only short distance flights are shown; when it is on the right only long distance ones."
      ]
    },
    {
      "cell_type": "code",
      "metadata": {
        "id": "yoTWNy_o_3Vm",
        "colab_type": "code",
        "colab": {}
      },
      "source": [
        "from bokeh.models import HoverTool, CustomJS, Slider\n",
        "from bokeh.layouts import row, widgetbox\n",
        "from bokeh.plotting import *\n",
        "import csv\n",
        "\n",
        "def normalize(input, domain_start, domain_stop, range_start, range_stop):\n",
        "    return (range_stop - range_start)*((input-domain_start)/(domain_stop-domain_start))+range_start\n",
        "\n",
        "reset_output()\n",
        "output_notebook()\n",
        "\n",
        "f = open('flights.csv')\n",
        "reader = csv.reader(f)\n",
        "next(reader)\n",
        "\n",
        "xs = []\n",
        "ys = []\n",
        "rs = []\n",
        "from_airports = []\n",
        "distances = []\n",
        "colours = []\n",
        "\n",
        "for line in reader:\n",
        "    [from_airport, from_city, from_country, from_long, from_lat,\n",
        "     to_airport, to_city, to_country, to_long, to_lat,\n",
        "     airline, airline_country, distance] = line\n",
        "    if from_airport not in from_airports:\n",
        "        xs.append(normalize(float(from_long),-180,180,0,600))\n",
        "        ys.append(normalize(float(from_lat),-180,180,0,300))\n",
        "        rs.append(normalize(float(distance),1,15406,3,15))\n",
        "        from_airports.append(from_airport)\n",
        "        distances.append(int(distance))\n",
        "        if from_country == to_country:\n",
        "            colours.append(\"red\")\n",
        "        else:\n",
        "            colours.append(\"blue\")\n",
        "\n",
        "source = ColumnDataSource(\n",
        "    data = dict(\n",
        "        x = xs,\n",
        "        y = ys,\n",
        "        radius = rs,\n",
        "        adjustedRadius = rs,\n",
        "        from_airport = from_airports,\n",
        "        distance = distances,\n",
        "        colour = colours\n",
        "    )\n",
        ")\n",
        "\n",
        "script9_plot = figure(plot_width=600,plot_height=300, tools=\"hover\")\n",
        "script9_plot.grid.grid_line_color=None\n",
        "script9_plot.circle(\"x\",\"y\",source=source,size=\"adjustedRadius\",line_color=None,fill_color=\"colour\",fill_alpha=0.3)\n",
        "\n",
        "\n",
        "callback = CustomJS(args=dict(source=source), code=\"\"\"\n",
        "    var data = source.data;\n",
        "    var s = select.value;\n",
        "    distance = data['distance'];\n",
        "    radius = data['radius'];\n",
        "    adjustedRadius = data['adjustedRadius']\n",
        "    for ( i = 0; i < distance.length; i++ ) {\n",
        "        if ( s - 200 < distance[i] && distance[i] < s + 200 ) {\n",
        "            adjustedRadius[i] = 5;\n",
        "        } else {\n",
        "            adjustedRadius[i] = 1;\n",
        "        }\n",
        "    }\n",
        "    source.change.emit();\n",
        "\"\"\")\n",
        "\n",
        "select_slider = Slider(start=0, end=15406, value=1000, step=1,\n",
        "                    title=\"Select\", callback=callback)\n",
        "callback.args[\"select\"] = select_slider\n",
        "\n",
        "layout = row(\n",
        "    script9_plot,\n",
        "    widgetbox(select_slider),\n",
        ")\n",
        "\n",
        "hover = script9_plot.select(dict(type=HoverTool))\n",
        "hover.tooltips = [\n",
        "    (\"index, from, distance\", \"$index, @from_airport, @distance\"),\n",
        "]\n",
        "\n",
        "show(layout)"
      ],
      "execution_count": 0,
      "outputs": []
    },
    {
      "cell_type": "markdown",
      "metadata": {
        "id": "F3F5RKhlAAQW",
        "colab_type": "text"
      },
      "source": [
        "## Brushing and linking"
      ]
    },
    {
      "cell_type": "markdown",
      "metadata": {
        "id": "CVMPL17AACVL",
        "colab_type": "text"
      },
      "source": [
        "A very powerful technique in interactive data visualization is to link two different plots: *linking* and *brushing*. By selecting a set of datapoints in one plot, the corresponding points in the other plot are highlighted. Here, we'll build two plots: one of all airports where flights leave (on the left) and one of all airports where flights arrive (on the right). By selecting departure airports in the left plot, the corresponding arrival airports in the right plot will be hightlighted."
      ]
    },
    {
      "cell_type": "code",
      "metadata": {
        "id": "J01Z9t5Q_-Av",
        "colab_type": "code",
        "colab": {}
      },
      "source": [
        "from bokeh.plotting import *\n",
        "output_notebook()\n",
        "import csv\n",
        "\n",
        "f = open('flights.csv')\n",
        "reader = csv.reader(f)\n",
        "next(reader)\n",
        "\n",
        "xs_from = []\n",
        "ys_from = []\n",
        "xs_to = []\n",
        "ys_to = []\n",
        "\n",
        "for line in reader:\n",
        "    [from_airport, from_city, from_country, from_long, from_lat,\n",
        "     to_airport, to_city, to_country, to_long, to_lat,\n",
        "     airline, airline_country, distance] = line\n",
        "    xs_from.append(normalize(float(from_long),-180,180,0,500))\n",
        "    ys_from.append(normalize(float(from_lat),-180,180,0,300))\n",
        "    xs_to.append(normalize(float(to_long),-180,180,0,500))\n",
        "    ys_to.append(normalize(float(to_lat),-180,180,0,300))\n",
        "\n",
        "source = ColumnDataSource({\n",
        "    \"xs_from\": xs_from,\n",
        "    \"ys_from\": ys_from,\n",
        "    \"xs_to\": xs_to,\n",
        "    \"ys_to\": ys_to\n",
        "})\n",
        "\n",
        "TOOLS = \"pan,box_zoom,box_select,lasso_select,reset\"\n",
        "plot1 = figure(plot_width=500,plot_height=300,tools=TOOLS,title=\"Departure airports\")\n",
        "plot1.grid.grid_line_color=None\n",
        "plot1.circle(\"xs_from\",\"ys_from\",source=source,line_color=None,fill_color=\"blue\",fill_alpha=0.05)\n",
        "plot2 = figure(plot_width=500,plot_height=300,tools=TOOLS,title=\"Arrival airports\")\n",
        "plot2.grid.grid_line_color=None\n",
        "plot2.circle(\"xs_to\",\"ys_to\",source=source,line_color=None,fill_color=\"blue\",fill_alpha=0.05)\n",
        "show(gridplot([[plot1,plot2]]))"
      ],
      "execution_count": 0,
      "outputs": []
    },
    {
      "cell_type": "markdown",
      "metadata": {
        "id": "OdE9ImsjAGdj",
        "colab_type": "text"
      },
      "source": [
        "This plot could be improved a bit because both selected and unselected airports are displayed in blue (albeit light and dark blue). "
      ]
    },
    {
      "cell_type": "code",
      "metadata": {
        "id": "788wWCmyAENz",
        "colab_type": "code",
        "colab": {}
      },
      "source": [
        "from bokeh.plotting import *\n",
        "output_notebook()\n",
        "import csv\n",
        "from bokeh.models.glyphs import Circle\n",
        "f = open('flights.csv')\n",
        "reader = csv.reader(f)\n",
        "next(reader)\n",
        "\n",
        "xs_from = []\n",
        "ys_from = []\n",
        "xs_to = []\n",
        "ys_to = []\n",
        "\n",
        "for line in reader:\n",
        "    [from_airport, from_city, from_country, from_long, from_lat,\n",
        "     to_airport, to_city, to_country, to_long, to_lat,\n",
        "     airline, airline_country, distance] = line\n",
        "    xs_from.append(normalize(float(from_long),-180,180,0,500))\n",
        "    ys_from.append(normalize(float(from_lat),-180,180,0,300))\n",
        "    xs_to.append(normalize(float(to_long),-180,180,0,500))\n",
        "    ys_to.append(normalize(float(to_lat),-180,180,0,300))\n",
        "\n",
        "source = ColumnDataSource({\n",
        "    \"xs_from\": xs_from,\n",
        "    \"ys_from\": ys_from,\n",
        "    \"xs_to\": xs_to,\n",
        "    \"ys_to\": ys_to\n",
        "})\n",
        "\n",
        "TOOLS = \"pan,box_zoom,box_select,lasso_select,reset\"\n",
        "plot1 = figure(plot_width=500,plot_height=300,tools=TOOLS,title=\"Departure airports\")\n",
        "plot1.grid.grid_line_color=None\n",
        "b = plot1.circle(\"xs_from\",\"ys_from\",source=source,line_color=None,fill_color=\"blue\",fill_alpha=0.05)\n",
        "b.nonselection_glyph = Circle(fill_color='black', fill_alpha=0.01, line_color=None)     # <======\n",
        "b.selection_glyph = Circle(fill_color='red', fill_alpha=0.5, line_color=None)           # <======\n",
        "plot2 = figure(plot_width=500,plot_height=300,tools=TOOLS,title=\"Arrival airports\")\n",
        "plot2.grid.grid_line_color=None\n",
        "c = plot2.circle(\"xs_to\",\"ys_to\",source=source,line_color=None,fill_color=\"blue\",fill_alpha=0.05)\n",
        "c.nonselection_glyph = Circle(fill_color='black', fill_alpha=0.01, line_color=None)     # <======\n",
        "c.selection_glyph = Circle(fill_color='red', fill_alpha=0.5, line_color=None)           # <======\n",
        "show(gridplot([[plot1,plot2]]))"
      ],
      "execution_count": 0,
      "outputs": []
    },
    {
      "cell_type": "markdown",
      "metadata": {
        "id": "HEWy3H-MAKmT",
        "colab_type": "text"
      },
      "source": [
        "## Speeding things up\n",
        "As you will have noticed, interactivity is really slow above. That is because all points are redrawn with every interaction. Luckily, there is a very easy way to speed things up by using webgl to render the images. The only change to make is to add `output_backend=\"webgl\"` to the plot definitions."
      ]
    },
    {
      "cell_type": "code",
      "metadata": {
        "id": "Gs7FeBvIAIBj",
        "colab_type": "code",
        "colab": {}
      },
      "source": [
        "from bokeh.plotting import *\n",
        "output_notebook()\n",
        "import csv\n",
        "from bokeh.models.glyphs import Circle\n",
        "f = open('flights.csv')\n",
        "reader = csv.reader(f)\n",
        "next(reader)\n",
        "\n",
        "xs_from = []\n",
        "ys_from = []\n",
        "xs_to = []\n",
        "ys_to = []\n",
        "\n",
        "for line in reader:\n",
        "    [from_airport, from_city, from_country, from_long, from_lat,\n",
        "     to_airport, to_city, to_country, to_long, to_lat,\n",
        "     airline, airline_country, distance] = line\n",
        "    xs_from.append(normalize(float(from_long),-180,180,0,500))\n",
        "    ys_from.append(normalize(float(from_lat),-180,180,0,300))\n",
        "    xs_to.append(normalize(float(to_long),-180,180,0,500))\n",
        "    ys_to.append(normalize(float(to_lat),-180,180,0,300))\n",
        "\n",
        "source = ColumnDataSource({\n",
        "    \"xs_from\": xs_from,\n",
        "    \"ys_from\": ys_from,\n",
        "    \"xs_to\": xs_to,\n",
        "    \"ys_to\": ys_to\n",
        "})\n",
        "\n",
        "TOOLS = \"pan,box_zoom,box_select,lasso_select,reset\"\n",
        "plot1 = figure(plot_width=500,plot_height=300,tools=TOOLS,title=\"Departure airports\",output_backend=\"webgl\")   # <=====\n",
        "plot1.grid.grid_line_color=None\n",
        "b = plot1.circle(\"xs_from\",\"ys_from\",source=source,line_color=None,fill_color=\"blue\",fill_alpha=0.05)\n",
        "b.nonselection_glyph = Circle(fill_color='black', fill_alpha=0.01, line_color=None)\n",
        "b.selection_glyph = Circle(fill_color='red', fill_alpha=0.5, line_color=None)\n",
        "plot2 = figure(plot_width=500,plot_height=300,tools=TOOLS,title=\"Arrival airports\", output_backend=\"webgl\")\n",
        "plot2.grid.grid_line_color=None\n",
        "c = plot2.circle(\"xs_to\",\"ys_to\",source=source,line_color=None,fill_color=\"blue\",fill_alpha=0.05)\n",
        "c.nonselection_glyph = Circle(fill_color='black', fill_alpha=0.01, line_color=None)\n",
        "c.selection_glyph = Circle(fill_color='red', fill_alpha=0.5, line_color=None)\n",
        "show(gridplot([[plot1,plot2]]))"
      ],
      "execution_count": 0,
      "outputs": []
    },
    {
      "cell_type": "code",
      "metadata": {
        "id": "WxtetZzCcVEU",
        "colab_type": "code",
        "colab": {}
      },
      "source": [
        ""
      ],
      "execution_count": 0,
      "outputs": []
    }
  ]
}